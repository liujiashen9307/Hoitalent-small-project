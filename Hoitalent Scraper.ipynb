{
 "cells": [
  {
   "cell_type": "code",
   "execution_count": 188,
   "metadata": {
    "collapsed": true
   },
   "outputs": [],
   "source": [
    "import requests\n",
    "from bs4 import BeautifulSoup\n",
    "import pandas"
   ]
  },
  {
   "cell_type": "code",
   "execution_count": 181,
   "metadata": {
    "collapsed": true
   },
   "outputs": [],
   "source": [
    "Position = []\n",
    "Company = []\n",
    "Position_Desc = []\n",
    "Job_Type = []\n",
    "Background = []\n",
    "Experience = []\n",
    "Degree = []\n",
    "Location = []\n",
    "Date = []\n",
    "Language = []"
   ]
  },
  {
   "cell_type": "code",
   "execution_count": 182,
   "metadata": {
    "collapsed": false
   },
   "outputs": [
    {
     "name": "stdout",
     "output_type": "stream",
     "text": [
      "Scraping of Page 240 is done!\n",
      "Scraping of Page 241 is done!\n",
      "Scraping of Page 242 is done!\n",
      "Scraping of Page 243 is done!\n",
      "Scraping of Page 244 is done!\n"
     ]
    }
   ],
   "source": [
    "for m in range(271): # 270\n",
    "    urls = []\n",
    "    url = 'http://hoitalent.com/position/?wpv_aux_current_post_id=6779&wpv_sort_orderby=post_date&wpv_sort_order=desc&wpv_view_count=6782-TCPID6779&wpv_paged='+str(m)\n",
    "    request = requests.get(url)\n",
    "    content = request.content\n",
    "    parser = BeautifulSoup(content,\"html.parser\")\n",
    "    All_href = parser.select('.single-position-row div a')\n",
    "    for i in range(0,len(All_href),3):\n",
    "        urls.append(All_href[i].get('href'))\n",
    "        Position.append(All_href[i].getText())\n",
    "    for j in range(1,len(All_href),3):\n",
    "        Company.append(All_href[j].getText())\n",
    "    for each in urls:\n",
    "        request_2 = requests.get(each)\n",
    "        content_2 = request_2.content\n",
    "        parser_2 = BeautifulSoup(content_2,\"html.parser\")\n",
    "        if len(parser_2.select('li.list-group-item'))>4:\n",
    "            slt = parser_2.findAll(\"div\", { \"class\" : \"wpcf-field-wysiwyg wpcf-field-job-description\" })\n",
    "            for ii in slt:\n",
    "                Position_Desc.append(ii.getText())\n",
    "            select = parser_2.select('li.list-group-item')\n",
    "            Type = filter(None,select[0].getText().split('\\n'))\n",
    "            Type = Type[1:]\n",
    "            Job_Type.append(Type)\n",
    "            BG=filter(None,select[1].getText().split('\\n'))\n",
    "            BG=BG[1:]\n",
    "            Background.append(BG)\n",
    "            LG = filter(None,select[2].getText().split('\\n'))\n",
    "            LG = LG[1:]\n",
    "            Language.append(LG)\n",
    "            EP = filter(None,select[3].getText().split('\\n'))[1:]\n",
    "            Experience.append(EP)\n",
    "            DG = filter(None,select[4].getText().split('\\n'))[1:]\n",
    "            Degree.append(DG)\n",
    "            LOC = filter(None,select[5].getText().split('\\n'))[1:]\n",
    "            Location.append(LOC)\n",
    "            DT = filter(None,select[6].getText().split('\\n'))[1:]\n",
    "            Date.append(DT)\n",
    "        else:\n",
    "            Position_Desc.append('Not Available')\n",
    "            Job_Type.append('Not Available')\n",
    "            Background.append('Not Available')\n",
    "            Language.append('Not Available')\n",
    "            Experience.append('Not Available')\n",
    "            Degree.append('Not Available')\n",
    "            Location.append('Not Available')\n",
    "            Date.append('Not Available')\n",
    "    print('Scraping of Page '+str(m)+' is done!')\n",
    "            \n",
    "        \n",
    "    "
   ]
  },
  {
   "cell_type": "code",
   "execution_count": 187,
   "metadata": {
    "collapsed": false
   },
   "outputs": [
    {
     "data": {
      "text/plain": [
       "u'Game on during work and join MediaMonks as a HTML Game Developer. In this position, you literally get to the source of gaming. Working alongside our in\\u2212house production studio, MediaMonks Games, you employ your love for the art and craft of game\\u2212making to build awesome interactive work for global brands.\\nYou work on games concepts big and small with a focus on browser\\u2212based games for mobile devices. You are responsible for delivering cross\\u2212browser support and help to optimize games across platforms and devices. In addition, you will contribute to the development of a platform on which we\\u2019ll build even more awesome HTML5 games in the future.\\nFor this position, we are looking for someone with a big love for building games. You are experienced with developing in HTML, CSS, JS, Canvas and WebGL, and are fully up to date with abilities and limitations of the prevailing mobile browsers. Our QA team will love you because you know the ins and outs of JavaScript debugging and other (browser) development tools. Last but not least, you know the basics of interaction patterns that are at the heart of every mobile game.\\nYou can score extra points on your application for any experience you have with other usual suspects in HTML5 development such as game engines, TypeScript, Haxe, Sass/SCSS, CreateJS or PIXI. If you can also work with entity component systems (ECS for SEO), you are quite the end boss we would be keen to have on our 25\\u2212Monk strong games team.\\nIn addition to being able to develop several games every year, working at MediaMonks brings you in the company of an awesome set of individuals. Together, you will be able to enjoy epic meals, celebrate awards, and blow off steam during our annual winter sports trip, summer soir\\xe9e and other events. If you feel comfortable taking on this challenge at our Hilversum headquarters, we\\u2019d love to hear from you.\\n'"
      ]
     },
     "execution_count": 187,
     "metadata": {},
     "output_type": "execute_result"
    }
   ],
   "source": [
    "Position_Desc[20]"
   ]
  },
  {
   "cell_type": "code",
   "execution_count": 22,
   "metadata": {
    "collapsed": false
   },
   "outputs": [],
   "source": [
    "df = pandas.DataFrame({'Position':Position,'Company':Company,'Description':Position_Desc,'Job_Type':Job_Type,'Background':Background,'Language':Language,'Degree':Degree,'Date':Date,'Experience':Experience,'Location':Location})"
   ]
  },
  {
   "cell_type": "code",
   "execution_count": 23,
   "metadata": {
    "collapsed": true
   },
   "outputs": [],
   "source": [
    "df = df[df['Background']!='Not Available']"
   ]
  },
  {
   "cell_type": "code",
   "execution_count": 68,
   "metadata": {
    "collapsed": false
   },
   "outputs": [],
   "source": [
    "df= df.reset_index(drop=True)"
   ]
  },
  {
   "cell_type": "code",
   "execution_count": 61,
   "metadata": {
    "collapsed": true
   },
   "outputs": [],
   "source": [
    "def ind(string):\n",
    "    return string.index('Apply')\n",
    "    "
   ]
  },
  {
   "cell_type": "code",
   "execution_count": 62,
   "metadata": {
    "collapsed": false
   },
   "outputs": [
    {
     "data": {
      "text/plain": [
       "9"
      ]
     },
     "execution_count": 62,
     "metadata": {},
     "output_type": "execute_result"
    }
   ],
   "source": [
    "ind(df['Description'][2])"
   ]
  },
  {
   "cell_type": "code",
   "execution_count": 67,
   "metadata": {
    "collapsed": false
   },
   "outputs": [],
   "source": [
    "df['Description_new'] = df['Description'].apply(lambda x: x[3:ind(x)])"
   ]
  },
  {
   "cell_type": "code",
   "execution_count": 69,
   "metadata": {
    "collapsed": false
   },
   "outputs": [],
   "source": [
    "Description_All = []\n",
    "for i in range(len(df)):\n",
    "    tt = df['Description_new'][i]\n",
    "    corpus=''\n",
    "    for j in range(len(tt)):\n",
    "        if j ==1:\n",
    "            corpus = corpus + tt[j]\n",
    "        else:\n",
    "            corpus = corpus+'\\n'+tt[j]\n",
    "    Description_All.append(corpus)   "
   ]
  },
  {
   "cell_type": "code",
   "execution_count": 70,
   "metadata": {
    "collapsed": true
   },
   "outputs": [],
   "source": [
    "df['Description_All']=Description_All"
   ]
  },
  {
   "cell_type": "code",
   "execution_count": 78,
   "metadata": {
    "collapsed": false
   },
   "outputs": [
    {
     "data": {
      "text/html": [
       "<div>\n",
       "<table border=\"1\" class=\"dataframe\">\n",
       "  <thead>\n",
       "    <tr style=\"text-align: right;\">\n",
       "      <th></th>\n",
       "      <th>Background</th>\n",
       "      <th>Company</th>\n",
       "      <th>Date</th>\n",
       "      <th>Degree</th>\n",
       "      <th>Description</th>\n",
       "      <th>Experience</th>\n",
       "      <th>Job_Type</th>\n",
       "      <th>Language</th>\n",
       "      <th>Location</th>\n",
       "      <th>Position</th>\n",
       "      <th>Description_new</th>\n",
       "      <th>Description_All</th>\n",
       "      <th>BG</th>\n",
       "      <th>LG</th>\n",
       "    </tr>\n",
       "  </thead>\n",
       "  <tbody>\n",
       "    <tr>\n",
       "      <th>0</th>\n",
       "      <td>[ IT and Computer Science]</td>\n",
       "      <td>Booking.com</td>\n",
       "      <td>[ November 17, 2016]</td>\n",
       "      <td>[ Bachelor]</td>\n",
       "      <td>[, HoiTalent, The Largest Job Portal for Inter...</td>\n",
       "      <td>[ 3 - 5 Years]</td>\n",
       "      <td>[ Full-time Position]</td>\n",
       "      <td>[ English]</td>\n",
       "      <td>[ Noord Holland]</td>\n",
       "      <td>SAP HCM Specialist</td>\n",
       "      <td>[Booking.com − the market leading online hotel...</td>\n",
       "      <td>\\nBooking.com − the market leading online hote...</td>\n",
       "      <td>IT and Computer Science</td>\n",
       "      <td>English</td>\n",
       "    </tr>\n",
       "    <tr>\n",
       "      <th>1</th>\n",
       "      <td>[ Business Admin and Others,  Marketing and Sa...</td>\n",
       "      <td>Suitsupply</td>\n",
       "      <td>[ November 17, 2016]</td>\n",
       "      <td>[ Bachelor]</td>\n",
       "      <td>[, HoiTalent, The Largest Job Portal for Inter...</td>\n",
       "      <td>[ 3 - 5 Years]</td>\n",
       "      <td>[ Full-time Position]</td>\n",
       "      <td>[ English]</td>\n",
       "      <td>[ Noord Holland]</td>\n",
       "      <td>Franchise Coordinator</td>\n",
       "      <td>[As Franchise Coordinator you work in close co...</td>\n",
       "      <td>\\nAs Franchise Coordinator you work in close c...</td>\n",
       "      <td>Business Admin and Others, Marketing and Sales</td>\n",
       "      <td>English</td>\n",
       "    </tr>\n",
       "    <tr>\n",
       "      <th>2</th>\n",
       "      <td>[ IT and Computer Science,  Media]</td>\n",
       "      <td>Microsoft</td>\n",
       "      <td>[ November 17, 2016]</td>\n",
       "      <td>[ Bachelor]</td>\n",
       "      <td>[, HoiTalent, The Largest Job Portal for Inter...</td>\n",
       "      <td>[ 1 - 3 Years]</td>\n",
       "      <td>[ Full-time Position]</td>\n",
       "      <td>[ German,  English]</td>\n",
       "      <td>[ Noord Holland]</td>\n",
       "      <td>German speaking Customer Care Agent for Microsoft</td>\n",
       "      <td>[Greece has much to offer in terms of natural ...</td>\n",
       "      <td>\\nGreece has much to offer in terms of natural...</td>\n",
       "      <td>IT and Computer Science, Media</td>\n",
       "      <td>German, English</td>\n",
       "    </tr>\n",
       "    <tr>\n",
       "      <th>3</th>\n",
       "      <td>[ Business Admin and Others,  Marketing and Sa...</td>\n",
       "      <td>Spil Games</td>\n",
       "      <td>[ November 17, 2016]</td>\n",
       "      <td>[ Bachelor]</td>\n",
       "      <td>[, HoiTalent, The Largest Job Portal for Inter...</td>\n",
       "      <td>[ Entry]</td>\n",
       "      <td>[ Internship / Part Time]</td>\n",
       "      <td>[ English]</td>\n",
       "      <td>[ Noord Holland]</td>\n",
       "      <td>Internship: Pr/ Communication</td>\n",
       "      <td>[Tasks &amp; Responsibilities Spil Games is seriou...</td>\n",
       "      <td>\\nTasks &amp; Responsibilities Spil Games is serio...</td>\n",
       "      <td>Business Admin and Others, Marketing and Sale...</td>\n",
       "      <td>English</td>\n",
       "    </tr>\n",
       "    <tr>\n",
       "      <th>4</th>\n",
       "      <td>[ Business Admin and Others,  Finance and Econ...</td>\n",
       "      <td>BESTSELLER</td>\n",
       "      <td>[ November 17, 2016]</td>\n",
       "      <td>[ Bachelor]</td>\n",
       "      <td>[, HoiTalent, The Largest Job Portal for Inter...</td>\n",
       "      <td>[ Entry]</td>\n",
       "      <td>[ Internship / Part Time]</td>\n",
       "      <td>[ English]</td>\n",
       "      <td>[ Noord Holland]</td>\n",
       "      <td>INTERNSHIP E-COMMERCE PROJECT MANAGEMENT</td>\n",
       "      <td>[Are you keen on a career in E−commerce? Do yo...</td>\n",
       "      <td>\\nAre you keen on a career in E−commerce? Do y...</td>\n",
       "      <td>Business Admin and Others, Finance and Economics</td>\n",
       "      <td>English</td>\n",
       "    </tr>\n",
       "  </tbody>\n",
       "</table>\n",
       "</div>"
      ],
      "text/plain": [
       "                                          Background      Company  \\\n",
       "0                         [ IT and Computer Science]  Booking.com   \n",
       "1  [ Business Admin and Others,  Marketing and Sa...   Suitsupply   \n",
       "2                 [ IT and Computer Science,  Media]    Microsoft   \n",
       "3  [ Business Admin and Others,  Marketing and Sa...   Spil Games   \n",
       "4  [ Business Admin and Others,  Finance and Econ...   BESTSELLER   \n",
       "\n",
       "                   Date       Degree  \\\n",
       "0  [ November 17, 2016]  [ Bachelor]   \n",
       "1  [ November 17, 2016]  [ Bachelor]   \n",
       "2  [ November 17, 2016]  [ Bachelor]   \n",
       "3  [ November 17, 2016]  [ Bachelor]   \n",
       "4  [ November 17, 2016]  [ Bachelor]   \n",
       "\n",
       "                                         Description      Experience  \\\n",
       "0  [, HoiTalent, The Largest Job Portal for Inter...  [ 3 - 5 Years]   \n",
       "1  [, HoiTalent, The Largest Job Portal for Inter...  [ 3 - 5 Years]   \n",
       "2  [, HoiTalent, The Largest Job Portal for Inter...  [ 1 - 3 Years]   \n",
       "3  [, HoiTalent, The Largest Job Portal for Inter...        [ Entry]   \n",
       "4  [, HoiTalent, The Largest Job Portal for Inter...        [ Entry]   \n",
       "\n",
       "                    Job_Type             Language          Location  \\\n",
       "0      [ Full-time Position]           [ English]  [ Noord Holland]   \n",
       "1      [ Full-time Position]           [ English]  [ Noord Holland]   \n",
       "2      [ Full-time Position]  [ German,  English]  [ Noord Holland]   \n",
       "3  [ Internship / Part Time]           [ English]  [ Noord Holland]   \n",
       "4  [ Internship / Part Time]           [ English]  [ Noord Holland]   \n",
       "\n",
       "                                            Position  \\\n",
       "0                                 SAP HCM Specialist   \n",
       "1                              Franchise Coordinator   \n",
       "2  German speaking Customer Care Agent for Microsoft   \n",
       "3                      Internship: Pr/ Communication   \n",
       "4           INTERNSHIP E-COMMERCE PROJECT MANAGEMENT   \n",
       "\n",
       "                                     Description_new  \\\n",
       "0  [Booking.com − the market leading online hotel...   \n",
       "1  [As Franchise Coordinator you work in close co...   \n",
       "2  [Greece has much to offer in terms of natural ...   \n",
       "3  [Tasks & Responsibilities Spil Games is seriou...   \n",
       "4  [Are you keen on a career in E−commerce? Do yo...   \n",
       "\n",
       "                                     Description_All  \\\n",
       "0  \\nBooking.com − the market leading online hote...   \n",
       "1  \\nAs Franchise Coordinator you work in close c...   \n",
       "2  \\nGreece has much to offer in terms of natural...   \n",
       "3  \\nTasks & Responsibilities Spil Games is serio...   \n",
       "4  \\nAre you keen on a career in E−commerce? Do y...   \n",
       "\n",
       "                                                  BG                LG  \n",
       "0                            IT and Computer Science           English  \n",
       "1     Business Admin and Others, Marketing and Sales           English  \n",
       "2                     IT and Computer Science, Media   German, English  \n",
       "3   Business Admin and Others, Marketing and Sale...           English  \n",
       "4   Business Admin and Others, Finance and Economics           English  "
      ]
     },
     "execution_count": 78,
     "metadata": {},
     "output_type": "execute_result"
    }
   ],
   "source": [
    "df['BG'] = df['Background'].apply(lambda x: ','.join(x))\n",
    "df['LG']=df['Language'].apply(lambda x:','.join(x))\n",
    "df.head()    "
   ]
  },
  {
   "cell_type": "code",
   "execution_count": 82,
   "metadata": {
    "collapsed": true
   },
   "outputs": [],
   "source": [
    "df.to_csv('Raw.csv',encoding='utf-8')"
   ]
  },
  {
   "cell_type": "code",
   "execution_count": 112,
   "metadata": {
    "collapsed": true
   },
   "outputs": [],
   "source": [
    "df= df.drop(df.index[1264])"
   ]
  },
  {
   "cell_type": "code",
   "execution_count": 113,
   "metadata": {
    "collapsed": true
   },
   "outputs": [],
   "source": [
    "df= df.reset_index(drop=True)"
   ]
  },
  {
   "cell_type": "code",
   "execution_count": 114,
   "metadata": {
    "collapsed": false
   },
   "outputs": [],
   "source": [
    "dd=[]\n",
    "for i in range(len(df)):\n",
    "    ddd= len(df['aa'][i].split())-len(df['Description_All'][i].split())\n",
    "    dd.append(ddd)"
   ]
  },
  {
   "cell_type": "code",
   "execution_count": 403,
   "metadata": {
    "collapsed": false
   },
   "outputs": [],
   "source": [
    "import re\n",
    "from nltk.corpus import stopwords"
   ]
  },
  {
   "cell_type": "code",
   "execution_count": 404,
   "metadata": {
    "collapsed": false
   },
   "outputs": [],
   "source": [
    "def to_words(content):\n",
    "    letters_only = re.sub(\"[^a-zA-Z]\", \" \", content) \n",
    "    words = letters_only.lower().split()                             \n",
    "    stops = set(stopwords.words(\"english\"))                  \n",
    "    meaningful_words = [w for w in words if not w in stops] \n",
    "    return( \" \".join( meaningful_words )) "
   ]
  },
  {
   "cell_type": "code",
   "execution_count": 419,
   "metadata": {
    "collapsed": true
   },
   "outputs": [],
   "source": [
    "df['Description_2']=df['All_Description'].apply(lambda x:re.sub(r'[^\\x00-\\x7F]+',' ', x))"
   ]
  },
  {
   "cell_type": "code",
   "execution_count": 427,
   "metadata": {
    "collapsed": false
   },
   "outputs": [],
   "source": [
    "df2=df"
   ]
  },
  {
   "cell_type": "code",
   "execution_count": 428,
   "metadata": {
    "collapsed": true
   },
   "outputs": [],
   "source": [
    "del df2['Description']\n",
    "del df2['All_Description']"
   ]
  },
  {
   "cell_type": "code",
   "execution_count": 431,
   "metadata": {
    "collapsed": false
   },
   "outputs": [],
   "source": [
    "df2['Description_2'] = df2['Description_2'].apply(lambda x: ''.join(i for i in x if ord(i)<128))"
   ]
  },
  {
   "cell_type": "code",
   "execution_count": 443,
   "metadata": {
    "collapsed": true
   },
   "outputs": [],
   "source": [
    "df2['Description_2'] = df2['Description_2'].apply(lambda x: x.encode(\"ascii\", \"ignore\"))"
   ]
  },
  {
   "cell_type": "code",
   "execution_count": 441,
   "metadata": {
    "collapsed": false
   },
   "outputs": [
    {
     "data": {
      "text/plain": [
       "'\\nYour challenge Philips has a substantial number of post-retirement plans (e.g. pension and retiree healthcare) throughout the world which inherently involve financial risk, e.g. the risk of additional funding. Managing and reporting about our post-retirement plans is challenging because of the combination of financial markets, actuarial assumptions and accounting rules which require expertise and experience.\\nYour responsibilities \\nYour team\\nYou are a member of the Philips Treasury Financial Risk and Pension Management team in Amsterdam\\nOur offer\\nWe welcome you to a challenging, innovative environment with great opportunities for you to explore and learn. Our benefits are very competitive and designed around your preferences.'"
      ]
     },
     "execution_count": 441,
     "metadata": {},
     "output_type": "execute_result"
    }
   ],
   "source": [
    "df2['Description_2'][200].encode(\"ascii\", \"ignore\")"
   ]
  },
  {
   "cell_type": "code",
   "execution_count": 442,
   "metadata": {
    "collapsed": false
   },
   "outputs": [
    {
     "data": {
      "text/plain": [
       "u'\\nYour challenge Philips has a substantial number of post-retirement plans (e.g. pension and retiree healthcare) throughout the world which inherently involve financial risk, e.g. the risk of additional funding. Managing and reporting about our post-retirement plans is challenging because of the combination of financial markets, actuarial assumptions and accounting rules which require expertise and experience.\\nYour responsibilities \\nYour team\\nYou are a member of the Philips Treasury Financial Risk and Pension Management team in Amsterdam\\nOur offer\\nWe welcome you to a challenging, innovative environment with great opportunities for you to explore and learn. Our benefits are very competitive and designed around your preferences.'"
      ]
     },
     "execution_count": 442,
     "metadata": {},
     "output_type": "execute_result"
    }
   ],
   "source": [
    "df2['Description_2'][200]"
   ]
  },
  {
   "cell_type": "code",
   "execution_count": 445,
   "metadata": {
    "collapsed": true
   },
   "outputs": [],
   "source": [
    "df2.to_csv('HT.csv',encoding='utf-8')"
   ]
  },
  {
   "cell_type": "code",
   "execution_count": 178,
   "metadata": {
    "collapsed": false
   },
   "outputs": [],
   "source": [
    "each = 'http://hoitalent.com/positions/front-end-engineer-performance-analytics-dashboards/'\n",
    "request_2 = requests.get(each)\n",
    "content_2 = request_2.content\n",
    "parser_2 = BeautifulSoup(content_2,\"html.parser\")\n",
    "slt = parser_2.findAll(\"div\", { \"class\" : \"wpcf-field-wysiwyg wpcf-field-job-description\" })"
   ]
  },
  {
   "cell_type": "code",
   "execution_count": 179,
   "metadata": {
    "collapsed": false
   },
   "outputs": [],
   "source": [
    "mm=[]\n",
    "for ii in slt:\n",
    "    mm.append(ii.getText())"
   ]
  },
  {
   "cell_type": "code",
   "execution_count": 180,
   "metadata": {
    "collapsed": false
   },
   "outputs": [
    {
     "data": {
      "text/plain": [
       "[u'Front\\u2212end Engineer \\u2212 Performance Analytics &amp; Reporting\\nLocation: Amsterdam, The Netherlands\\nServiceNow is changing the way people work. With a service\\u2212orientation toward the activities, tasks and processes that make up day\\u2212to\\u2212day work life, we help the modern enterprise operate faster and be more scalable than ever before.\\nWe\\u2019re disruptive. We work hard but try not to take ourselves too seriously. We are highly adaptable and constantly evolving. We are passionate about our product, and we live for our customers. We have high expectations and a career at ServiceNow means challenging yourself to always be better.\\nThe Performance Analytics and Reporting business unit is building the core Business Intelligence and Analytics capabilities that allows customers to report, analyze, visualize any data that resides in ServiceNow applications. The Performance Analytics team delivers ad\\u2212hoc reporting, performance scorecards, time series analysis, predictive analytics and powerful visually oriented dashboards as well as mobile BI applications. We are laser\\u2212focused on building an innovative, scalable and feature\\u2212rich BI stack for all ServiceNow customers.\\nWe are building the cloud platform that hundreds of companies such as CERN, Enterprise Rent\\u2212A\\u2212Car, Equinix, Harrods, Juniper Networks, Kimberly\\u2212Clark, REI, Sephora and Staples depend on every day to accelerate their company forward.\\nWe seek to employ the brightest and most forward\\u2212thinking cloud platform developers on the planet. We have offices in California, UK and Amsterdam and work as a distributed team.\\nCome join the Performance Analytics and Reporting development team and make your mark on the cloud platform for enterprise applications!\\nWhat you get to do in this role:\\nAs a Front\\u2212end Engineer you will be a key member of the Performance Analytics &amp; Reporting business unit. The team works within the larger software development group to realize the vision of Business Intelligence &amp; Analytics in the cloud. We build easy\\u2212to\\u2212use business intelligence functions that enable data visualization, allowing our customers to fuel business decisions and propel their businesses. We design and deliver those aspects of the platform that enables customers to report, visualize and analyze any data that resides in ServiceNow applications. The team is focused and co\\u2212located in a collaborative and agile environment.\\nYou will own your code from design through implementation and test automation, delivering high quality and valued software to customers. You will work directly with our technical support organization to assist whenever a customer is struggling to develop their own applications and solutions for IT and their business.\\nIn order to be successful in this role, we need someone who has:\\nMust have strong hands\\u2212on experience in writing modular, object oriented JavaScript\\nMust have professional expertise in modern UI technologies like HTML5, CSS3, DOM, Ajax\\nMust have experience to one or more client side MVC/MVVM frameworks, preferable AngularJS\\nMust have experience in one or more source control systems and automation frameworks, preferably Git and Maven\\nNice to have experience in TDD, Unit and Integration Test frameworks, preferably front end testing frameworks like Karma, Jasmine, Protractor\\nNice to have knowledge of object oriented programming in strongly typed languages, preferably Java\\nNice to have experience working in Scrum teams\\nNice to have familiarity with the Unix shell\\nWe provide competitive compensation, generous benefits and a professional atmosphere. This is a very collaborative and inclusive work environment where individuals strong on aptitude and attitude will have an opportunity to grow their professional careers through working with some of the most advanced technology and talented developers in the business.\\n']"
      ]
     },
     "execution_count": 180,
     "metadata": {},
     "output_type": "execute_result"
    }
   ],
   "source": [
    "mm"
   ]
  },
  {
   "cell_type": "code",
   "execution_count": null,
   "metadata": {
    "collapsed": true
   },
   "outputs": [],
   "source": []
  }
 ],
 "metadata": {
  "anaconda-cloud": {},
  "kernelspec": {
   "display_name": "Python [conda root]",
   "language": "python",
   "name": "conda-root-py"
  },
  "language_info": {
   "codemirror_mode": {
    "name": "ipython",
    "version": 2
   },
   "file_extension": ".py",
   "mimetype": "text/x-python",
   "name": "python",
   "nbconvert_exporter": "python",
   "pygments_lexer": "ipython2",
   "version": "2.7.12"
  }
 },
 "nbformat": 4,
 "nbformat_minor": 1
}
